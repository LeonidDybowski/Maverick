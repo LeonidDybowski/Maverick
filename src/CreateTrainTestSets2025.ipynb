{
 "cells": [
  {
   "cell_type": "code",
   "execution_count": null,
   "id": "4b4f7b91",
   "metadata": {
    "vscode": {
     "languageId": "plaintext"
    }
   },
   "outputs": [],
   "source": [
    "\"\"\"\n",
    "This code was taken from:\n",
    "\n",
    "Danzi, M.C., Dohrn, M.F., Fazal, S. et al. \n",
    "Deep structured learning for variant prioritization in Mendelian diseases. \n",
    "Nat Commun 14, 4167 (2023). https://doi.org/10.1038/s41467-023-39306-7\n",
    "\"\"\""
   ]
  },
  {
   "cell_type": "raw",
   "id": "4e6074a0-9230-4443-8f11-3ccc4b457446",
   "metadata": {},
   "source": [
    "%%bash\n",
    "# install necessary modules\n",
    "pip install wget pandas numpy biopython\n",
    "# download the resources to the 'resources' folder\n",
    "python -m wget https://zuchnerlab.s3.amazonaws.com/VariantPathogenicity/MAVERICK/MaverickTrainingResources.tar.gz\n",
    "tar -zxvf MaverickTrainingResources.tar.gz"
   ]
  },
  {
   "cell_type": "raw",
   "id": "2235f140-a3fb-4ac5-9705-a1f6f33e5ded",
   "metadata": {},
   "source": [
    "%%bash\n",
    "# Annovar executables are bound by both academic and commercial licenses, but can be downloaded (after registration) from https://www.openbioinformatics.org/annovar/annovar_download_form.php\n",
    "# Users must obtain their own licenses for use of Annovar and then move the release archive to the directory where Maverick is being set up in order to continue.\n",
    "# Extract Annovar to a new resources/annovar/ subdirectory\n",
    "cd resources/\n",
    "tar -zxvf annovar.tar.gz"
   ]
  },
  {
   "cell_type": "raw",
   "id": "cb39947f-aaa1-4a48-aaeb-44175500e61d",
   "metadata": {
    "scrolled": true
   },
   "source": [
    "%%bash\n",
    "cd resources/annovar/\n",
    "./annotate_variation.pl -downdb -build hg38 seq humandb/hg38_seq/\n",
    "# The following line of code may not be necessary with newer versions of Annovar. Use as needed. \n",
    "mv humandb/hg38_seq/chroms/* humandb/hg38_seq/\n",
    "./annotate_variation.pl --build hg38 --downdb wgEncodeGencodeBasicV47 humandb/\n",
    "./retrieve_seq_from_fasta.pl -format genericGene -seqdir humandb/hg38_seq/ -outfile humandb/hg38_wgEncodeGencodeBasicV47Mrna.fa humandb/hg38_wgEncodeGencodeBasicV47.txt \n",
    "cd ../../"
   ]
  },
  {
   "cell_type": "code",
   "execution_count": 1,
   "id": "d4a085a8-9b08-49ef-aa32-7945e7ec695c",
   "metadata": {},
   "outputs": [],
   "source": [
    "resources = '../../resources/'"
   ]
  },
  {
   "cell_type": "code",
   "execution_count": 1,
   "id": "bceeaf31-def4-4f95-9cce-0db427ba7ea2",
   "metadata": {},
   "outputs": [],
   "source": [
    "import pandas as pd\n",
    "import numpy as np\n",
    "from Bio import SeqIO"
   ]
  },
  {
   "cell_type": "markdown",
   "id": "3736b5a8-71b1-484a-87e7-c2c942508ebe",
   "metadata": {},
   "source": [
    "## Inheritance map"
   ]
  },
  {
   "cell_type": "code",
   "execution_count": 3,
   "id": "3eadf79e-f481-47da-8d3f-f2da4741364e",
   "metadata": {
    "scrolled": true
   },
   "outputs": [
    {
     "data": {
      "text/html": [
       "<div>\n",
       "<style scoped>\n",
       "    .dataframe tbody tr th:only-of-type {\n",
       "        vertical-align: middle;\n",
       "    }\n",
       "\n",
       "    .dataframe tbody tr th {\n",
       "        vertical-align: top;\n",
       "    }\n",
       "\n",
       "    .dataframe thead th {\n",
       "        text-align: right;\n",
       "    }\n",
       "</style>\n",
       "<table border=\"1\" class=\"dataframe\">\n",
       "  <thead>\n",
       "    <tr style=\"text-align: right;\">\n",
       "      <th></th>\n",
       "      <th>MIM Number</th>\n",
       "      <th>Approved Symbol</th>\n",
       "      <th>Ensembl Gene ID</th>\n",
       "      <th>Phenotypes</th>\n",
       "    </tr>\n",
       "  </thead>\n",
       "  <tbody>\n",
       "    <tr>\n",
       "      <th>24</th>\n",
       "      <td>147571</td>\n",
       "      <td>ISG15</td>\n",
       "      <td>ENSG00000187608</td>\n",
       "      <td>Immunodeficiency 38, 616126 (3), Autosomal rec...</td>\n",
       "    </tr>\n",
       "    <tr>\n",
       "      <th>25</th>\n",
       "      <td>103320</td>\n",
       "      <td>AGRN</td>\n",
       "      <td>ENSG00000188157</td>\n",
       "      <td>Myasthenic syndrome, congenital, 8, with pre- ...</td>\n",
       "    </tr>\n",
       "    <tr>\n",
       "      <th>30</th>\n",
       "      <td>600315</td>\n",
       "      <td>TNFRSF4</td>\n",
       "      <td>ENSG00000186827</td>\n",
       "      <td>?Immunodeficiency 16, 615593 (3), Autosomal re...</td>\n",
       "    </tr>\n",
       "    <tr>\n",
       "      <th>32</th>\n",
       "      <td>615291</td>\n",
       "      <td>B3GALT6</td>\n",
       "      <td>ENSG00000176022</td>\n",
       "      <td>Ehlers-Danlos syndrome, spondylodysplastic typ...</td>\n",
       "    </tr>\n",
       "    <tr>\n",
       "      <th>36</th>\n",
       "      <td>611354</td>\n",
       "      <td>INTS11</td>\n",
       "      <td>ENSG00000127054</td>\n",
       "      <td>Neurodevelopmental disorder with motor and lan...</td>\n",
       "    </tr>\n",
       "    <tr>\n",
       "      <th>...</th>\n",
       "      <td>...</td>\n",
       "      <td>...</td>\n",
       "      <td>...</td>\n",
       "      <td>...</td>\n",
       "    </tr>\n",
       "    <tr>\n",
       "      <th>18427</th>\n",
       "      <td>300777</td>\n",
       "      <td>TMLHE</td>\n",
       "      <td>ENSG00000185973</td>\n",
       "      <td>{Autism, susceptibility to, X-linked 6}, 30087...</td>\n",
       "    </tr>\n",
       "    <tr>\n",
       "      <th>18441</th>\n",
       "      <td>400020</td>\n",
       "      <td>SHOX</td>\n",
       "      <td>ENSG00000185960</td>\n",
       "      <td>Short stature, idiopathic familial, 300582 (3)...</td>\n",
       "    </tr>\n",
       "    <tr>\n",
       "      <th>18450</th>\n",
       "      <td>480000</td>\n",
       "      <td>SRY</td>\n",
       "      <td>ENSG00000184895</td>\n",
       "      <td>46XY sex reversal 1, 400044 (3), Y-linked; 46X...</td>\n",
       "    </tr>\n",
       "    <tr>\n",
       "      <th>18456</th>\n",
       "      <td>400033</td>\n",
       "      <td>TBL1Y</td>\n",
       "      <td>ENSG00000092377</td>\n",
       "      <td>?Deafness, Y-linked 2, 400047 (3), Y-linked</td>\n",
       "    </tr>\n",
       "    <tr>\n",
       "      <th>18461</th>\n",
       "      <td>400005</td>\n",
       "      <td>USP9Y</td>\n",
       "      <td>ENSG00000114374</td>\n",
       "      <td>Spermatogenic failure, Y-linked, 2, 415000 (3)...</td>\n",
       "    </tr>\n",
       "  </tbody>\n",
       "</table>\n",
       "<p>4952 rows × 4 columns</p>\n",
       "</div>"
      ],
      "text/plain": [
       "       MIM Number Approved Symbol  Ensembl Gene ID  \\\n",
       "24         147571           ISG15  ENSG00000187608   \n",
       "25         103320            AGRN  ENSG00000188157   \n",
       "30         600315         TNFRSF4  ENSG00000186827   \n",
       "32         615291         B3GALT6  ENSG00000176022   \n",
       "36         611354          INTS11  ENSG00000127054   \n",
       "...           ...             ...              ...   \n",
       "18427      300777           TMLHE  ENSG00000185973   \n",
       "18441      400020            SHOX  ENSG00000185960   \n",
       "18450      480000             SRY  ENSG00000184895   \n",
       "18456      400033           TBL1Y  ENSG00000092377   \n",
       "18461      400005           USP9Y  ENSG00000114374   \n",
       "\n",
       "                                              Phenotypes  \n",
       "24     Immunodeficiency 38, 616126 (3), Autosomal rec...  \n",
       "25     Myasthenic syndrome, congenital, 8, with pre- ...  \n",
       "30     ?Immunodeficiency 16, 615593 (3), Autosomal re...  \n",
       "32     Ehlers-Danlos syndrome, spondylodysplastic typ...  \n",
       "36     Neurodevelopmental disorder with motor and lan...  \n",
       "...                                                  ...  \n",
       "18427  {Autism, susceptibility to, X-linked 6}, 30087...  \n",
       "18441  Short stature, idiopathic familial, 300582 (3)...  \n",
       "18450  46XY sex reversal 1, 400044 (3), Y-linked; 46X...  \n",
       "18456        ?Deafness, Y-linked 2, 400047 (3), Y-linked  \n",
       "18461  Spermatogenic failure, Y-linked, 2, 415000 (3)...  \n",
       "\n",
       "[4952 rows x 4 columns]"
      ]
     },
     "execution_count": 3,
     "metadata": {},
     "output_type": "execute_result"
    }
   ],
   "source": [
    "genemap=pd.read_csv(resources + 'genemap2_20240702.txt',sep='\\t',low_memory=False,comment='#')\n",
    "genemap = genemap.rename(columns={'Approved Gene Symbol': 'Approved Symbol'})\n",
    "genemap=genemap.loc[:,['MIM Number','Approved Symbol','Ensembl Gene ID','Phenotypes']]\n",
    "genemap=genemap.loc[~genemap['Approved Symbol'].isna(),:]\n",
    "genemap=genemap.loc[~genemap['Phenotypes'].isna(),:]\n",
    "genemap"
   ]
  },
  {
   "cell_type": "code",
   "execution_count": 4,
   "id": "f2bb439f-4446-4402-8cab-52b9582424c8",
   "metadata": {},
   "outputs": [
    {
     "data": {
      "text/plain": [
       "147571  0    Immunodeficiency 38, 616126 (3), Autosomal rec...\n",
       "103320  0    Myasthenic syndrome, congenital, 8, with pre- ...\n",
       "600315  0    ?Immunodeficiency 16, 615593 (3), Autosomal re...\n",
       "615291  0    Ehlers-Danlos syndrome, spondylodysplastic typ...\n",
       "        1    Spondyloepimetaphyseal dysplasia with joint la...\n",
       "                                   ...                        \n",
       "400020  2    Leri-Weill dyschondrosteosis, 127300 (3), Pseu...\n",
       "480000  0            46XY sex reversal 1, 400044 (3), Y-linked\n",
       "        1    46XX sex reversal 1, 400045 (4), X-linked domi...\n",
       "400033  0          ?Deafness, Y-linked 2, 400047 (3), Y-linked\n",
       "400005  0    Spermatogenic failure, Y-linked, 2, 415000 (3)...\n",
       "Length: 7568, dtype: object"
      ]
     },
     "execution_count": 4,
     "metadata": {},
     "output_type": "execute_result"
    }
   ],
   "source": [
    "mimToGene=genemap.loc[:,['MIM Number','Approved Symbol']]\n",
    "phenotypes=pd.DataFrame(genemap['Phenotypes'].str.split(';').tolist(), index=genemap['MIM Number'].values).stack().str.strip()\n",
    "phenotypes"
   ]
  },
  {
   "cell_type": "code",
   "execution_count": 5,
   "id": "6a399e42-eb8b-4b29-a7dc-6a95fb9f659b",
   "metadata": {},
   "outputs": [
    {
     "data": {
      "text/plain": [
       "147571  0    Immunodeficiency 38, 616126 (3), Autosomal rec...\n",
       "103320  0    Myasthenic syndrome, congenital, 8, with pre- ...\n",
       "615291  0    Ehlers-Danlos syndrome, spondylodysplastic typ...\n",
       "        1    Spondyloepimetaphyseal dysplasia with joint la...\n",
       "        2    Al-Gazali syndrome, 609465 (3), Autosomal rece...\n",
       "                                   ...                        \n",
       "400020  1    Langer mesomelic dysplasia, 249700 (3), Pseudo...\n",
       "        2    Leri-Weill dyschondrosteosis, 127300 (3), Pseu...\n",
       "480000  0            46XY sex reversal 1, 400044 (3), Y-linked\n",
       "        1    46XX sex reversal 1, 400045 (4), X-linked domi...\n",
       "400005  0    Spermatogenic failure, Y-linked, 2, 415000 (3)...\n",
       "Length: 6046, dtype: object"
      ]
     },
     "execution_count": 5,
     "metadata": {},
     "output_type": "execute_result"
    }
   ],
   "source": [
    "filter=((phenotypes.str[0]==\"?\") | (phenotypes.str[0]==\"[\") | (phenotypes.str[0]==\"{\"))\n",
    "phenotypes2=phenotypes.loc[~filter,:]\n",
    "phenotypes2\n",
    "filter2=phenotypes2.str.contains(r\" [0-9]{6} \\(\")\n",
    "phenotypes2=phenotypes2.loc[filter2,:]\n",
    "phenotypes2"
   ]
  },
  {
   "cell_type": "code",
   "execution_count": 6,
   "id": "e2d5b4ea-ad8c-4eea-941e-46faf02a8a17",
   "metadata": {},
   "outputs": [],
   "source": [
    "locusMIMs=phenotypes2.index.get_level_values(0)\n",
    "phenotypeMIMs=phenotypes2.str.split(r\"\\([0-9]\\)\").str[0].str.split(',').str[-1].str.strip()\n",
    "phenotypeInheritances=phenotypes2.str.split(r\"\\([0-9]\\), \").str[1].str.strip()\n",
    "mappingMethod=phenotypes2.str.split(r\" [0-9]{6} \\(\").str[1].str.split(')').str[0]"
   ]
  },
  {
   "cell_type": "code",
   "execution_count": 7,
   "id": "4d14ba48-57ae-449d-9c0e-9eb9325062c1",
   "metadata": {},
   "outputs": [
    {
     "data": {
      "text/html": [
       "<div>\n",
       "<style scoped>\n",
       "    .dataframe tbody tr th:only-of-type {\n",
       "        vertical-align: middle;\n",
       "    }\n",
       "\n",
       "    .dataframe tbody tr th {\n",
       "        vertical-align: top;\n",
       "    }\n",
       "\n",
       "    .dataframe thead th {\n",
       "        text-align: right;\n",
       "    }\n",
       "</style>\n",
       "<table border=\"1\" class=\"dataframe\">\n",
       "  <thead>\n",
       "    <tr style=\"text-align: right;\">\n",
       "      <th></th>\n",
       "      <th>geneMIM</th>\n",
       "      <th>phenoMIM</th>\n",
       "      <th>inheritance</th>\n",
       "      <th>mappingMethod</th>\n",
       "    </tr>\n",
       "  </thead>\n",
       "  <tbody>\n",
       "    <tr>\n",
       "      <th>0</th>\n",
       "      <td>147571</td>\n",
       "      <td>616126</td>\n",
       "      <td>Autosomal recessive</td>\n",
       "      <td>3</td>\n",
       "    </tr>\n",
       "    <tr>\n",
       "      <th>1</th>\n",
       "      <td>103320</td>\n",
       "      <td>615120</td>\n",
       "      <td>Autosomal recessive</td>\n",
       "      <td>3</td>\n",
       "    </tr>\n",
       "    <tr>\n",
       "      <th>2</th>\n",
       "      <td>615291</td>\n",
       "      <td>615349</td>\n",
       "      <td>Autosomal recessive</td>\n",
       "      <td>3</td>\n",
       "    </tr>\n",
       "    <tr>\n",
       "      <th>3</th>\n",
       "      <td>615291</td>\n",
       "      <td>271640</td>\n",
       "      <td>Autosomal recessive</td>\n",
       "      <td>3</td>\n",
       "    </tr>\n",
       "    <tr>\n",
       "      <th>4</th>\n",
       "      <td>615291</td>\n",
       "      <td>609465</td>\n",
       "      <td>Autosomal recessive</td>\n",
       "      <td>3</td>\n",
       "    </tr>\n",
       "    <tr>\n",
       "      <th>...</th>\n",
       "      <td>...</td>\n",
       "      <td>...</td>\n",
       "      <td>...</td>\n",
       "      <td>...</td>\n",
       "    </tr>\n",
       "    <tr>\n",
       "      <th>6041</th>\n",
       "      <td>400020</td>\n",
       "      <td>249700</td>\n",
       "      <td>Pseudoautosomal recessive</td>\n",
       "      <td>3</td>\n",
       "    </tr>\n",
       "    <tr>\n",
       "      <th>6042</th>\n",
       "      <td>400020</td>\n",
       "      <td>127300</td>\n",
       "      <td>Pseudoautosomal dominant</td>\n",
       "      <td>3</td>\n",
       "    </tr>\n",
       "    <tr>\n",
       "      <th>6043</th>\n",
       "      <td>480000</td>\n",
       "      <td>400044</td>\n",
       "      <td>Y-linked</td>\n",
       "      <td>3</td>\n",
       "    </tr>\n",
       "    <tr>\n",
       "      <th>6044</th>\n",
       "      <td>480000</td>\n",
       "      <td>400045</td>\n",
       "      <td>X-linked dominant</td>\n",
       "      <td>4</td>\n",
       "    </tr>\n",
       "    <tr>\n",
       "      <th>6045</th>\n",
       "      <td>400005</td>\n",
       "      <td>415000</td>\n",
       "      <td>Y-linked</td>\n",
       "      <td>3</td>\n",
       "    </tr>\n",
       "  </tbody>\n",
       "</table>\n",
       "<p>6046 rows × 4 columns</p>\n",
       "</div>"
      ],
      "text/plain": [
       "      geneMIM phenoMIM                inheritance mappingMethod\n",
       "0      147571   616126        Autosomal recessive             3\n",
       "1      103320   615120        Autosomal recessive             3\n",
       "2      615291   615349        Autosomal recessive             3\n",
       "3      615291   271640        Autosomal recessive             3\n",
       "4      615291   609465        Autosomal recessive             3\n",
       "...       ...      ...                        ...           ...\n",
       "6041   400020   249700  Pseudoautosomal recessive             3\n",
       "6042   400020   127300   Pseudoautosomal dominant             3\n",
       "6043   480000   400044                   Y-linked             3\n",
       "6044   480000   400045          X-linked dominant             4\n",
       "6045   400005   415000                   Y-linked             3\n",
       "\n",
       "[6046 rows x 4 columns]"
      ]
     },
     "execution_count": 7,
     "metadata": {},
     "output_type": "execute_result"
    }
   ],
   "source": [
    "newMap=pd.DataFrame({'geneMIM':locusMIMs,'phenoMIM':phenotypeMIMs.values,'inheritance':phenotypeInheritances.values,'mappingMethod':mappingMethod.values})\n",
    "newMap"
   ]
  },
  {
   "cell_type": "code",
   "execution_count": 8,
   "id": "5050f715-34f4-4184-b053-0b7cbce4587c",
   "metadata": {},
   "outputs": [],
   "source": [
    "newMap.to_csv('./geneToPhenoToInheritanceMap.txt',sep='\\t',index=False)"
   ]
  },
  {
   "cell_type": "code",
   "execution_count": 9,
   "id": "cff323e1-bd02-4c84-a31f-277b4cef4807",
   "metadata": {},
   "outputs": [],
   "source": [
    "newMap2=newMap.loc[((newMap['inheritance']==\"Autosomal dominant\") | (newMap['inheritance']==\"Autosomal recessive\")),:]\n",
    "newMap3=newMap2.loc[newMap2['mappingMethod']=='3',:]\n",
    "# add back in the gene names\n",
    "mimToGene=mimToGene.rename(columns={'MIM Number':'geneMIM','Approved Symbol':'GeneSymbol'})\n",
    "newMap4=newMap3.merge(mimToGene,how='inner',on='geneMIM')\n",
    "newMap4.to_csv('./geneToPhenoToInheritanceMap_filtered.txt',sep='\\t',index=False)"
   ]
  },
  {
   "cell_type": "markdown",
   "id": "1b2510a6-f041-4914-b3d8-5a3f274ba09c",
   "metadata": {},
   "source": [
    "## ClinVar variants"
   ]
  },
  {
   "cell_type": "code",
   "execution_count": 8,
   "id": "9592c488-71a6-49f7-bf11-3ec48f98103a",
   "metadata": {},
   "outputs": [
    {
     "data": {
      "text/html": [
       "<div>\n",
       "<style scoped>\n",
       "    .dataframe tbody tr th:only-of-type {\n",
       "        vertical-align: middle;\n",
       "    }\n",
       "\n",
       "    .dataframe tbody tr th {\n",
       "        vertical-align: top;\n",
       "    }\n",
       "\n",
       "    .dataframe thead th {\n",
       "        text-align: right;\n",
       "    }\n",
       "</style>\n",
       "<table border=\"1\" class=\"dataframe\">\n",
       "  <thead>\n",
       "    <tr style=\"text-align: right;\">\n",
       "      <th></th>\n",
       "      <th>geneMIM</th>\n",
       "      <th>phenoMIM</th>\n",
       "      <th>inheritance</th>\n",
       "      <th>mappingMethod</th>\n",
       "      <th>GeneSymbol</th>\n",
       "    </tr>\n",
       "  </thead>\n",
       "  <tbody>\n",
       "    <tr>\n",
       "      <th>0</th>\n",
       "      <td>147571</td>\n",
       "      <td>616126</td>\n",
       "      <td>Autosomal recessive</td>\n",
       "      <td>3</td>\n",
       "      <td>ISG15</td>\n",
       "    </tr>\n",
       "    <tr>\n",
       "      <th>1</th>\n",
       "      <td>103320</td>\n",
       "      <td>615120</td>\n",
       "      <td>Autosomal recessive</td>\n",
       "      <td>3</td>\n",
       "      <td>AGRN</td>\n",
       "    </tr>\n",
       "    <tr>\n",
       "      <th>2</th>\n",
       "      <td>615291</td>\n",
       "      <td>615349</td>\n",
       "      <td>Autosomal recessive</td>\n",
       "      <td>3</td>\n",
       "      <td>B3GALT6</td>\n",
       "    </tr>\n",
       "    <tr>\n",
       "      <th>3</th>\n",
       "      <td>615291</td>\n",
       "      <td>271640</td>\n",
       "      <td>Autosomal recessive</td>\n",
       "      <td>3</td>\n",
       "      <td>B3GALT6</td>\n",
       "    </tr>\n",
       "    <tr>\n",
       "      <th>4</th>\n",
       "      <td>615291</td>\n",
       "      <td>609465</td>\n",
       "      <td>Autosomal recessive</td>\n",
       "      <td>3</td>\n",
       "      <td>B3GALT6</td>\n",
       "    </tr>\n",
       "    <tr>\n",
       "      <th>...</th>\n",
       "      <td>...</td>\n",
       "      <td>...</td>\n",
       "      <td>...</td>\n",
       "      <td>...</td>\n",
       "      <td>...</td>\n",
       "    </tr>\n",
       "    <tr>\n",
       "      <th>5074</th>\n",
       "      <td>604272</td>\n",
       "      <td>604377</td>\n",
       "      <td>Autosomal recessive</td>\n",
       "      <td>3</td>\n",
       "      <td>SCO2</td>\n",
       "    </tr>\n",
       "    <tr>\n",
       "      <th>5075</th>\n",
       "      <td>131222</td>\n",
       "      <td>603041</td>\n",
       "      <td>Autosomal recessive</td>\n",
       "      <td>3</td>\n",
       "      <td>TYMP</td>\n",
       "    </tr>\n",
       "    <tr>\n",
       "      <th>5076</th>\n",
       "      <td>612395</td>\n",
       "      <td>602541</td>\n",
       "      <td>Autosomal recessive</td>\n",
       "      <td>3</td>\n",
       "      <td>CHKB</td>\n",
       "    </tr>\n",
       "    <tr>\n",
       "      <th>5077</th>\n",
       "      <td>607574</td>\n",
       "      <td>250100</td>\n",
       "      <td>Autosomal recessive</td>\n",
       "      <td>3</td>\n",
       "      <td>ARSA</td>\n",
       "    </tr>\n",
       "    <tr>\n",
       "      <th>5078</th>\n",
       "      <td>606230</td>\n",
       "      <td>606232</td>\n",
       "      <td>Autosomal dominant</td>\n",
       "      <td>3</td>\n",
       "      <td>SHANK3</td>\n",
       "    </tr>\n",
       "  </tbody>\n",
       "</table>\n",
       "<p>4953 rows × 5 columns</p>\n",
       "</div>"
      ],
      "text/plain": [
       "      geneMIM phenoMIM          inheritance  mappingMethod GeneSymbol\n",
       "0      147571   616126  Autosomal recessive              3      ISG15\n",
       "1      103320   615120  Autosomal recessive              3       AGRN\n",
       "2      615291   615349  Autosomal recessive              3    B3GALT6\n",
       "3      615291   271640  Autosomal recessive              3    B3GALT6\n",
       "4      615291   609465  Autosomal recessive              3    B3GALT6\n",
       "...       ...      ...                  ...            ...        ...\n",
       "5074   604272   604377  Autosomal recessive              3       SCO2\n",
       "5075   131222   603041  Autosomal recessive              3       TYMP\n",
       "5076   612395   602541  Autosomal recessive              3       CHKB\n",
       "5077   607574   250100  Autosomal recessive              3       ARSA\n",
       "5078   606230   606232   Autosomal dominant              3     SHANK3\n",
       "\n",
       "[4953 rows x 5 columns]"
      ]
     },
     "execution_count": 8,
     "metadata": {},
     "output_type": "execute_result"
    }
   ],
   "source": [
    "inheritanceMap=pd.read_csv('./geneToPhenoToInheritanceMap_filtered.txt',sep='\\t',low_memory=False)\n",
    "inheritanceMap=inheritanceMap.drop_duplicates(subset=['geneMIM','phenoMIM','inheritance'],keep='first')\n",
    "inheritanceMap"
   ]
  },
  {
   "cell_type": "code",
   "execution_count": 9,
   "id": "2b241f4f-70ea-4720-a1dc-fb321645abcf",
   "metadata": {},
   "outputs": [
    {
     "data": {
      "text/plain": [
       "Assembly\n",
       "GRCh37    3110359\n",
       "GRCh38    3059494\n",
       "na           6931\n",
       "NCBI36       4771\n",
       "Name: count, dtype: int64"
      ]
     },
     "execution_count": 9,
     "metadata": {},
     "output_type": "execute_result"
    }
   ],
   "source": [
    "clinvar=pd.read_csv(resources + 'variant_summary_2025-01.txt',sep='\\t',low_memory=False)\n",
    "clinvar.loc[:,'Assembly'].value_counts()"
   ]
  },
  {
   "cell_type": "code",
   "execution_count": 10,
   "id": "1b49d579-70a3-40e5-b227-3e934dfd93c0",
   "metadata": {},
   "outputs": [],
   "source": [
    "clinvar = clinvar.loc[clinvar['Assembly'] == 'GRCh38',:]"
   ]
  },
  {
   "cell_type": "code",
   "execution_count": 11,
   "id": "b8577a7a-e1a5-4bc6-b8c9-53864fc52454",
   "metadata": {},
   "outputs": [
    {
     "data": {
      "text/plain": [
       "19277"
      ]
     },
     "execution_count": 11,
     "metadata": {},
     "output_type": "execute_result"
    }
   ],
   "source": [
    "len(clinvar.loc[clinvar['PositionVCF'] == -1])"
   ]
  },
  {
   "cell_type": "code",
   "execution_count": 15,
   "id": "96a2f268-aec8-4404-a4ac-6b9b4036b29c",
   "metadata": {},
   "outputs": [],
   "source": [
    "clinvar = clinvar.loc[clinvar['PositionVCF'] != -1]"
   ]
  },
  {
   "cell_type": "code",
   "execution_count": 12,
   "id": "fd3fce74-286d-44f9-b308-2e1c01ab530a",
   "metadata": {},
   "outputs": [
    {
     "data": {
      "text/html": [
       "<div>\n",
       "<style scoped>\n",
       "    .dataframe tbody tr th:only-of-type {\n",
       "        vertical-align: middle;\n",
       "    }\n",
       "\n",
       "    .dataframe tbody tr th {\n",
       "        vertical-align: top;\n",
       "    }\n",
       "\n",
       "    .dataframe thead th {\n",
       "        text-align: right;\n",
       "    }\n",
       "</style>\n",
       "<table border=\"1\" class=\"dataframe\">\n",
       "  <thead>\n",
       "    <tr style=\"text-align: right;\">\n",
       "      <th></th>\n",
       "      <th>#AlleleID</th>\n",
       "      <th>Type</th>\n",
       "      <th>Name</th>\n",
       "      <th>GeneID</th>\n",
       "      <th>GeneSymbol</th>\n",
       "      <th>HGNC_ID</th>\n",
       "      <th>ClinicalSignificance</th>\n",
       "      <th>ClinSigSimple</th>\n",
       "      <th>LastEvaluated</th>\n",
       "      <th>RS# (dbSNP)</th>\n",
       "      <th>...</th>\n",
       "      <th>VariationID</th>\n",
       "      <th>PositionVCF</th>\n",
       "      <th>ReferenceAlleleVCF</th>\n",
       "      <th>AlternateAlleleVCF</th>\n",
       "      <th>SomaticClinicalImpact</th>\n",
       "      <th>SomaticClinicalImpactLastEvaluated</th>\n",
       "      <th>ReviewStatusClinicalImpact</th>\n",
       "      <th>Oncogenicity</th>\n",
       "      <th>OncogenicityLastEvaluated</th>\n",
       "      <th>ReviewStatusOncogenicity</th>\n",
       "    </tr>\n",
       "  </thead>\n",
       "  <tbody>\n",
       "    <tr>\n",
       "      <th>1</th>\n",
       "      <td>15041</td>\n",
       "      <td>Indel</td>\n",
       "      <td>NM_014855.3(AP5Z1):c.80_83delinsTGCTGTAAACTGTA...</td>\n",
       "      <td>9907</td>\n",
       "      <td>AP5Z1</td>\n",
       "      <td>HGNC:22197</td>\n",
       "      <td>Pathogenic</td>\n",
       "      <td>1</td>\n",
       "      <td>-</td>\n",
       "      <td>397704705</td>\n",
       "      <td>...</td>\n",
       "      <td>2</td>\n",
       "      <td>4781213</td>\n",
       "      <td>GGAT</td>\n",
       "      <td>TGCTGTAAACTGTAACTGTAAA</td>\n",
       "      <td>-</td>\n",
       "      <td>-</td>\n",
       "      <td>-</td>\n",
       "      <td>-</td>\n",
       "      <td>-</td>\n",
       "      <td>-</td>\n",
       "    </tr>\n",
       "    <tr>\n",
       "      <th>3</th>\n",
       "      <td>15042</td>\n",
       "      <td>Deletion</td>\n",
       "      <td>NM_014855.3(AP5Z1):c.1413_1426del (p.Leu473fs)</td>\n",
       "      <td>9907</td>\n",
       "      <td>AP5Z1</td>\n",
       "      <td>HGNC:22197</td>\n",
       "      <td>Pathogenic</td>\n",
       "      <td>1</td>\n",
       "      <td>Jun 29, 2010</td>\n",
       "      <td>397704709</td>\n",
       "      <td>...</td>\n",
       "      <td>3</td>\n",
       "      <td>4787729</td>\n",
       "      <td>GCTGCTGGACCTGCC</td>\n",
       "      <td>G</td>\n",
       "      <td>-</td>\n",
       "      <td>-</td>\n",
       "      <td>-</td>\n",
       "      <td>-</td>\n",
       "      <td>-</td>\n",
       "      <td>-</td>\n",
       "    </tr>\n",
       "    <tr>\n",
       "      <th>5</th>\n",
       "      <td>15043</td>\n",
       "      <td>single nucleotide variant</td>\n",
       "      <td>NM_014630.3(ZNF592):c.3136G&gt;A (p.Gly1046Arg)</td>\n",
       "      <td>9640</td>\n",
       "      <td>ZNF592</td>\n",
       "      <td>HGNC:28986</td>\n",
       "      <td>Uncertain significance</td>\n",
       "      <td>0</td>\n",
       "      <td>Jun 29, 2015</td>\n",
       "      <td>150829393</td>\n",
       "      <td>...</td>\n",
       "      <td>4</td>\n",
       "      <td>84799209</td>\n",
       "      <td>G</td>\n",
       "      <td>A</td>\n",
       "      <td>-</td>\n",
       "      <td>-</td>\n",
       "      <td>-</td>\n",
       "      <td>-</td>\n",
       "      <td>-</td>\n",
       "      <td>-</td>\n",
       "    </tr>\n",
       "    <tr>\n",
       "      <th>7</th>\n",
       "      <td>15044</td>\n",
       "      <td>single nucleotide variant</td>\n",
       "      <td>NM_017547.4(FOXRED1):c.694C&gt;T (p.Gln232Ter)</td>\n",
       "      <td>55572</td>\n",
       "      <td>FOXRED1</td>\n",
       "      <td>HGNC:26927</td>\n",
       "      <td>Pathogenic</td>\n",
       "      <td>1</td>\n",
       "      <td>Dec 01, 2023</td>\n",
       "      <td>267606829</td>\n",
       "      <td>...</td>\n",
       "      <td>5</td>\n",
       "      <td>126275389</td>\n",
       "      <td>C</td>\n",
       "      <td>T</td>\n",
       "      <td>-</td>\n",
       "      <td>-</td>\n",
       "      <td>-</td>\n",
       "      <td>-</td>\n",
       "      <td>-</td>\n",
       "      <td>-</td>\n",
       "    </tr>\n",
       "    <tr>\n",
       "      <th>9</th>\n",
       "      <td>15045</td>\n",
       "      <td>single nucleotide variant</td>\n",
       "      <td>NM_017547.4(FOXRED1):c.1289A&gt;G (p.Asn430Ser)</td>\n",
       "      <td>55572</td>\n",
       "      <td>FOXRED1</td>\n",
       "      <td>HGNC:26927</td>\n",
       "      <td>Pathogenic</td>\n",
       "      <td>1</td>\n",
       "      <td>Oct 01, 2010</td>\n",
       "      <td>267606830</td>\n",
       "      <td>...</td>\n",
       "      <td>6</td>\n",
       "      <td>126277517</td>\n",
       "      <td>A</td>\n",
       "      <td>G</td>\n",
       "      <td>-</td>\n",
       "      <td>-</td>\n",
       "      <td>-</td>\n",
       "      <td>-</td>\n",
       "      <td>-</td>\n",
       "      <td>-</td>\n",
       "    </tr>\n",
       "  </tbody>\n",
       "</table>\n",
       "<p>5 rows × 40 columns</p>\n",
       "</div>"
      ],
      "text/plain": [
       "   #AlleleID                       Type  \\\n",
       "1      15041                      Indel   \n",
       "3      15042                   Deletion   \n",
       "5      15043  single nucleotide variant   \n",
       "7      15044  single nucleotide variant   \n",
       "9      15045  single nucleotide variant   \n",
       "\n",
       "                                                Name  GeneID GeneSymbol  \\\n",
       "1  NM_014855.3(AP5Z1):c.80_83delinsTGCTGTAAACTGTA...    9907      AP5Z1   \n",
       "3     NM_014855.3(AP5Z1):c.1413_1426del (p.Leu473fs)    9907      AP5Z1   \n",
       "5       NM_014630.3(ZNF592):c.3136G>A (p.Gly1046Arg)    9640     ZNF592   \n",
       "7        NM_017547.4(FOXRED1):c.694C>T (p.Gln232Ter)   55572    FOXRED1   \n",
       "9       NM_017547.4(FOXRED1):c.1289A>G (p.Asn430Ser)   55572    FOXRED1   \n",
       "\n",
       "      HGNC_ID    ClinicalSignificance  ClinSigSimple LastEvaluated  \\\n",
       "1  HGNC:22197              Pathogenic              1             -   \n",
       "3  HGNC:22197              Pathogenic              1  Jun 29, 2010   \n",
       "5  HGNC:28986  Uncertain significance              0  Jun 29, 2015   \n",
       "7  HGNC:26927              Pathogenic              1  Dec 01, 2023   \n",
       "9  HGNC:26927              Pathogenic              1  Oct 01, 2010   \n",
       "\n",
       "   RS# (dbSNP)  ... VariationID PositionVCF ReferenceAlleleVCF  \\\n",
       "1    397704705  ...           2     4781213               GGAT   \n",
       "3    397704709  ...           3     4787729    GCTGCTGGACCTGCC   \n",
       "5    150829393  ...           4    84799209                  G   \n",
       "7    267606829  ...           5   126275389                  C   \n",
       "9    267606830  ...           6   126277517                  A   \n",
       "\n",
       "       AlternateAlleleVCF SomaticClinicalImpact  \\\n",
       "1  TGCTGTAAACTGTAACTGTAAA                     -   \n",
       "3                       G                     -   \n",
       "5                       A                     -   \n",
       "7                       T                     -   \n",
       "9                       G                     -   \n",
       "\n",
       "  SomaticClinicalImpactLastEvaluated ReviewStatusClinicalImpact Oncogenicity  \\\n",
       "1                                  -                          -            -   \n",
       "3                                  -                          -            -   \n",
       "5                                  -                          -            -   \n",
       "7                                  -                          -            -   \n",
       "9                                  -                          -            -   \n",
       "\n",
       "  OncogenicityLastEvaluated  ReviewStatusOncogenicity  \n",
       "1                         -                         -  \n",
       "3                         -                         -  \n",
       "5                         -                         -  \n",
       "7                         -                         -  \n",
       "9                         -                         -  \n",
       "\n",
       "[5 rows x 40 columns]"
      ]
     },
     "execution_count": 12,
     "metadata": {},
     "output_type": "execute_result"
    }
   ],
   "source": [
    "clinvar.head()"
   ]
  },
  {
   "cell_type": "code",
   "execution_count": 17,
   "id": "9d1d64b6-9605-452a-a8ae-920d6d2b73fc",
   "metadata": {},
   "outputs": [
    {
     "data": {
      "text/plain": [
       "Type\n",
       "single nucleotide variant    2793322\n",
       "Deletion                      127178\n",
       "Duplication                    57487\n",
       "Microsatellite                 33695\n",
       "Indel                          14927\n",
       "Insertion                      11948\n",
       "Inversion                       1288\n",
       "Variation                        372\n",
       "Name: count, dtype: int64"
      ]
     },
     "execution_count": 17,
     "metadata": {},
     "output_type": "execute_result"
    }
   ],
   "source": [
    "clinvar = clinvar.rename(columns={'#AlleleID': 'AlleleID'})\n",
    "clinvar.loc[:,'Type'].value_counts()"
   ]
  },
  {
   "cell_type": "code",
   "execution_count": 16,
   "id": "47bb101e-c365-4dfd-9bd6-1c27c332fcf8",
   "metadata": {},
   "outputs": [],
   "source": [
    "clinvar=clinvar.loc[((clinvar['Type']==\"single nucleotide variant\") | (clinvar['Type']==\"Deletion\") | (clinvar['Type']==\"Duplication\") | (clinvar['Type']==\"Microsatellite\") | (clinvar['Type']==\"Indel\") | (clinvar['Type']==\"Insertion\")),:]\n",
    "benign=clinvar.loc[((clinvar['ClinicalSignificance']==\"Benign\") | (clinvar['ClinicalSignificance']==\"Likely benign\") | (clinvar['ClinicalSignificance']==\"Benign/Likely benign\")),:]\n",
    "benign=benign.loc[~(benign['OriginSimple']==\"somatic\"),:]\n",
    "pathogenic=clinvar.loc[((clinvar['ClinicalSignificance']==\"Pathogenic\") | (clinvar['ClinicalSignificance']==\"Likely pathogenic\") | (clinvar['ClinicalSignificance']==\"Pathogenic/Likely pathogenic\")),:]\n",
    "pathogenic=pathogenic.loc[~(clinvar['OriginSimple']==\"somatic\"),:]\n",
    "pathogenic=pathogenic.loc[pathogenic['PhenotypeIDS'].str.contains(\"OMIM:\"),:]"
   ]
  },
  {
   "cell_type": "code",
   "execution_count": 17,
   "id": "f9c6e295-8017-46d1-b5d4-b6a60d250568",
   "metadata": {},
   "outputs": [],
   "source": [
    "# get the relationships between clinvar allele IDs and omim phenotype ids \n",
    "pathogenicOmimPheno=pd.DataFrame(pathogenic['PhenotypeIDS'].str.split(';').tolist(), index=pathogenic['AlleleID'].values).stack()\n",
    "pathogenicOmimPheno=pathogenicOmimPheno[pathogenicOmimPheno.str.contains(\"OMIM:\")]\n",
    "pathogenicAlleleIDs=pathogenicOmimPheno.index.get_level_values(0)\n",
    "pathogenicAlleleOmimIDs=pathogenicOmimPheno.str.split(\"OMIM:\").str[1].str.split(\",\").str[0].str.strip()\n",
    "pathogenicAllelesToOmimIDs=pd.DataFrame({'clinvarAlleleID':pathogenicAlleleIDs,'phenoMIM':pathogenicAlleleOmimIDs.values})"
   ]
  },
  {
   "cell_type": "code",
   "execution_count": 18,
   "id": "8fdc6ff5-4874-4cc9-a492-250f68e53b7c",
   "metadata": {},
   "outputs": [
    {
     "data": {
      "text/plain": [
       "ReviewStatus\n",
       "criteria provided, single submitter                     71577\n",
       "criteria provided, multiple submitters, no conflicts    36377\n",
       "no assertion criteria provided                          17339\n",
       "reviewed by expert panel                                 2662\n",
       "practice guideline                                          3\n",
       "Name: count, dtype: int64"
      ]
     },
     "execution_count": 18,
     "metadata": {},
     "output_type": "execute_result"
    }
   ],
   "source": [
    "# select down to just the allele IDs for which we have at least one inheritance pattern in omim\n",
    "pathogenicAllelesWithInheritance=pathogenicAllelesToOmimIDs.merge(inheritanceMap,how='inner',on='phenoMIM')\n",
    "# select down to just the variants without conflicts in the inheritance\n",
    "pathogenicAllelesWithInheritance2=pathogenicAllelesWithInheritance.drop_duplicates(subset=['clinvarAlleleID','inheritance'],keep='first')\n",
    "pathogenicAllelesWithInheritance3=pathogenicAllelesWithInheritance2.drop_duplicates(subset='clinvarAlleleID',keep=False)\n",
    "# get the original data on the alleles with omim inheritance\n",
    "pathogenic2=pathogenic.merge(pathogenicAllelesWithInheritance3,how='inner',left_on=['AlleleID'],right_on=['clinvarAlleleID'])\n",
    "pathogenic2.loc[:,'ReviewStatus'].value_counts()"
   ]
  },
  {
   "cell_type": "code",
   "execution_count": 19,
   "id": "bc030e9c-d5cb-4ead-a58b-387010c2aa2e",
   "metadata": {},
   "outputs": [
    {
     "data": {
      "text/plain": [
       "66869"
      ]
     },
     "execution_count": 19,
     "metadata": {},
     "output_type": "execute_result"
    }
   ],
   "source": [
    "pathogenic3=pathogenic2.loc[~(pathogenic2['ReviewStatus']==\"no assertion criteria provided\"),:]\n",
    "len(pathogenic3.loc[pathogenic3['inheritance']=='Autosomal recessive',:]) # this is the number of recessive variants we have now (but this includes coding and noncoding)"
   ]
  },
  {
   "cell_type": "code",
   "execution_count": 20,
   "id": "c774278e-fd13-48ba-949b-c1f74091daaa",
   "metadata": {},
   "outputs": [
    {
     "data": {
      "text/plain": [
       "43750"
      ]
     },
     "execution_count": 20,
     "metadata": {},
     "output_type": "execute_result"
    }
   ],
   "source": [
    "len(pathogenic3.loc[pathogenic3['inheritance']=='Autosomal dominant',:]) # this is the number of dominant variants we have now (but this includes coding and noncoding)"
   ]
  },
  {
   "cell_type": "code",
   "execution_count": 21,
   "id": "ef1dc976-17f9-4523-8e7f-aa15732a25bc",
   "metadata": {},
   "outputs": [
    {
     "data": {
      "text/plain": [
       "Index(['AlleleID', 'Type', 'Name', 'GeneID', 'GeneSymbol_x', 'HGNC_ID',\n",
       "       'ClinicalSignificance', 'ClinSigSimple', 'LastEvaluated', 'RS# (dbSNP)',\n",
       "       'nsv/esv (dbVar)', 'RCVaccession', 'PhenotypeIDS', 'PhenotypeList',\n",
       "       'Origin', 'OriginSimple', 'Assembly', 'ChromosomeAccession',\n",
       "       'Chromosome', 'Start', 'Stop', 'ReferenceAllele', 'AlternateAllele',\n",
       "       'Cytogenetic', 'ReviewStatus', 'NumberSubmitters', 'Guidelines',\n",
       "       'TestedInGTR', 'OtherIDs', 'SubmitterCategories', 'VariationID',\n",
       "       'PositionVCF', 'ReferenceAlleleVCF', 'AlternateAlleleVCF',\n",
       "       'SomaticClinicalImpact', 'SomaticClinicalImpactLastEvaluated',\n",
       "       'ReviewStatusClinicalImpact', 'Oncogenicity',\n",
       "       'OncogenicityLastEvaluated', 'ReviewStatusOncogenicity',\n",
       "       'clinvarAlleleID', 'phenoMIM', 'geneMIM', 'inheritance',\n",
       "       'mappingMethod', 'GeneSymbol_y'],\n",
       "      dtype='object')"
      ]
     },
     "execution_count": 21,
     "metadata": {},
     "output_type": "execute_result"
    }
   ],
   "source": [
    "pathogenic3.columns"
   ]
  },
  {
   "cell_type": "code",
   "execution_count": 22,
   "id": "e6ae5896-4391-4e44-abc8-23581c93d606",
   "metadata": {},
   "outputs": [],
   "source": [
    "pathogenic3AR=pathogenic3.loc[pathogenic3['inheritance']=='Autosomal recessive',['Chromosome','PositionVCF','ReferenceAlleleVCF','AlternateAlleleVCF']]\n",
    "pathogenic3AD=pathogenic3.loc[pathogenic3['inheritance']=='Autosomal dominant',['Chromosome','PositionVCF','ReferenceAlleleVCF','AlternateAlleleVCF']]\n",
    "pathogenic3AR=pathogenic3AR.rename(columns={'PositionVCF':'Start','ReferenceAlleleVCF':'ReferenceAllele','AlternateAlleleVCF':'AlternateAllele'})\n",
    "pathogenic3AD=pathogenic3AD.rename(columns={'PositionVCF':'Start','ReferenceAlleleVCF':'ReferenceAllele','AlternateAlleleVCF':'AlternateAllele'})\n",
    "pathogenic3AR=pathogenic3AR.sort_values(by=['Chromosome','Start','ReferenceAllele','AlternateAllele'])\n",
    "pathogenic3AD=pathogenic3AD.sort_values(by=['Chromosome','Start','ReferenceAllele','AlternateAllele'])\n",
    "pathogenic3AR.to_csv('./clinvar_pathogenic_AR_locations.txt',sep='\\t',index=False)\n",
    "pathogenic3AD.to_csv('./clinvar_pathogenic_AD_locations.txt',sep='\\t',index=False)"
   ]
  },
  {
   "cell_type": "code",
   "execution_count": 23,
   "id": "bd1e7eae-2897-42e2-af9f-0f8f094483b6",
   "metadata": {
    "scrolled": true
   },
   "outputs": [],
   "source": [
    "# deal with clinvar benigns\n",
    "benign=benign.loc[~(benign['ReviewStatus']==\"no assertion criteria provided\"),:]\n",
    "benign=benign.loc[:,['Chromosome','PositionVCF','ReferenceAlleleVCF','AlternateAlleleVCF']]\n",
    "benign=benign.rename(columns={'PositionVCF':'Start','ReferenceAlleleVCF':'ReferenceAllele','AlternateAlleleVCF':'AlternateAllele'})\n",
    "benign.to_csv('./clinvar_oneToFourStarBenign_locations.txt',sep='\\t',index=False)"
   ]
  },
  {
   "cell_type": "code",
   "execution_count": 24,
   "id": "812b8842-3168-4128-81ad-9c6af0414b93",
   "metadata": {
    "scrolled": true
   },
   "outputs": [
    {
     "data": {
      "text/plain": [
       "2614673"
      ]
     },
     "execution_count": 24,
     "metadata": {},
     "output_type": "execute_result"
    }
   ],
   "source": [
    "# Add gnomAD benigns \n",
    "gnomad=pd.read_csv(resources + 'gnomad.exomes.v4.1.sites.benign.txt',sep='\\t',low_memory=False)\n",
    "benign2=pd.concat([benign,gnomad],axis=0,ignore_index=True)\n",
    "benign2=benign2.sort_values(by=['Chromosome','Start','ReferenceAllele','AlternateAllele'])\n",
    "benign2=benign2.drop_duplicates(subset=['Chromosome','Start','ReferenceAllele','AlternateAllele'],keep='first').reset_index(drop=True)\n",
    "benign2.to_csv('./clinvar_benign_locations.txt',sep='\\t',index=False)\n",
    "len(benign2) # this is the number of benign variants we have now"
   ]
  },
  {
   "cell_type": "markdown",
   "id": "a33443bd-9cf2-4012-84dc-3d53e9b98685",
   "metadata": {},
   "source": [
    "- `dos2unix`: converts the line breaks from the format `Carriage Return + Line Feed` into the format `Line Feed`  \n",
    "- `tail -n +2`: reads the whole file except for the first line  \n",
    "- `awk -F'\\t' -v OFS='\\t' '{print $1,$2,\".\",$3,$4,\".\",\"PASS\",\".\",\"GT\",\"0/1\"}'`: reads a tab-separated, processes each line from the format `Chrom Start Ref Alt` to the format `Chrom Start . Ref Alt . PASS . GT 0/1`, and returns another tab-separated file\n",
    "- `cat header.vcf`: adds VCF header (28 lines)\n",
    "- `convert2annovar.pl` converts VCF to annovar input format\n",
    "- `annotate_variation.pl` annotates the fule acording to the build and database (here, Gencode is used)\n",
    "- `coding_change.pl` converts DNA sequence into protein"
   ]
  },
  {
   "cell_type": "code",
   "execution_count": 25,
   "id": "5cb697d5-155c-4d16-98ce-cc26a10de850",
   "metadata": {
    "scrolled": true
   },
   "outputs": [
    {
     "name": "stderr",
     "output_type": "stream",
     "text": [
      "dos2unix: converting file ../training2025/training_data2025_ann2025_hg38_test_known2020/clinvar_oneToFourStarBenign_locations.txt to Unix format...\n",
      "NOTICE: Finished reading 66897 lines from VCF file\n",
      "NOTICE: A total of 66869 locus in VCF file passed QC threshold, representing 38898 SNPs (22911 transitions and 15987 transversions) and 27886 indels/substitutions\n",
      "NOTICE: Finished writing 38898 SNP genotypes (22911 transitions and 15987 transversions) and 27886 indels/substitutions for 1 sample\n",
      "WARNING: 85 invalid alternative alleles found in input file\n",
      "NOTICE: The --geneanno operation is set to ON by default\n",
      "NOTICE: Output files are written to ../training2025/training_data2025_ann2025_hg38_test_known2020/clinvar_pathogenic_AR.avinput.variant_function, ../training2025/training_data2025_ann2025_hg38_test_known2020/clinvar_pathogenic_AR.avinput.exonic_variant_function\n",
      "NOTICE: Reading gene annotation from annovar/humandb/hg38_wgEncodeGencodeBasicV47.txt ... Done with 154259 transcripts (including 80867 without coding sequence annotation) for 63750 unique genes\n",
      "NOTICE: Processing next batch with 66869 unique variants in 66869 input lines\n",
      "NOTICE: Reading FASTA sequences from annovar/humandb/hg38_wgEncodeGencodeBasicV47Mrna.fa ... Done with 9197 sequences\n",
      "WARNING: A total of 420 sequences will be ignored due to lack of correct ORF annotation\n",
      "NOTICE: Finished reading 43778 lines from VCF file\n",
      "NOTICE: A total of 43750 locus in VCF file passed QC threshold, representing 25156 SNPs (13962 transitions and 11194 transversions) and 18535 indels/substitutions\n",
      "NOTICE: Finished writing 25156 SNP genotypes (13962 transitions and 11194 transversions) and 18535 indels/substitutions for 1 sample\n",
      "WARNING: 59 invalid alternative alleles found in input file\n",
      "NOTICE: The --geneanno operation is set to ON by default\n",
      "NOTICE: Output files are written to ../training2025/training_data2025_ann2025_hg38_test_known2020/clinvar_pathogenic_AD.avinput.variant_function, ../training2025/training_data2025_ann2025_hg38_test_known2020/clinvar_pathogenic_AD.avinput.exonic_variant_function\n",
      "NOTICE: Reading gene annotation from annovar/humandb/hg38_wgEncodeGencodeBasicV47.txt ... Done with 154259 transcripts (including 80867 without coding sequence annotation) for 63750 unique genes\n",
      "NOTICE: Processing next batch with 43750 unique variants in 43750 input lines\n",
      "NOTICE: Reading FASTA sequences from annovar/humandb/hg38_wgEncodeGencodeBasicV47Mrna.fa ... Done with 6680 sequences\n",
      "WARNING: A total of 420 sequences will be ignored due to lack of correct ORF annotation\n",
      "NOTICE: Finished reading 2614701 lines from VCF file\n",
      "NOTICE: A total of 2614673 locus in VCF file passed QC threshold, representing 2337890 SNPs (1653599 transitions and 683795 transversions) and 276762 indels/substitutions\n",
      "NOTICE: Finished writing 2337890 SNP genotypes (1653599 transitions and 683795 transversions) and 276762 indels/substitutions for 1 sample\n",
      "WARNING: 21 invalid alternative alleles found in input file\n",
      "NOTICE: The --geneanno operation is set to ON by default\n",
      "NOTICE: Output files are written to ../training2025/training_data2025_ann2025_hg38_test_known2020/clinvar_benign.avinput.variant_function, ../training2025/training_data2025_ann2025_hg38_test_known2020/clinvar_benign.avinput.exonic_variant_function\n",
      "NOTICE: Reading gene annotation from annovar/humandb/hg38_wgEncodeGencodeBasicV47.txt ... Done with 154259 transcripts (including 80867 without coding sequence annotation) for 63750 unique genes\n",
      "NOTICE: Processing next batch with 2614644 unique variants in 2614644 input lines\n",
      "NOTICE: Finished analyzing 1000000 query variants\n",
      "NOTICE: Finished analyzing 2000000 query variants\n",
      "NOTICE: Reading FASTA sequences from annovar/humandb/hg38_wgEncodeGencodeBasicV47Mrna.fa ... Done with 58075 sequences\n",
      "WARNING: A total of 420 sequences will be ignored due to lack of correct ORF annotation\n",
      "\n",
      "---------------------------------------------------------------------------------------\n",
      "WARNING: 7759 exonic SNPs have WRONG reference alleles specified in your input file!\n",
      "WARNING: An example input line is <1\t51288219\t51288219\tA\tG\thet\t.\t.>\n",
      "WARNING: ANNOVAR can still annotate exonic_variant_function for the mutation correctly!\n",
      "WARNING: you may have used wrong -buildver, or specified incorrect reference allele, or used outdated mRNA FASTA file!\n",
      "---------------------------------------------------------------------------------------\n",
      "\n",
      "NOTICE: Variants with invalid input format are written to ../training2025/training_data2025_ann2025_hg38_test_known2020/clinvar_benign.avinput.invalid_input\n"
     ]
    }
   ],
   "source": [
    "%%bash \n",
    "cd ../../resources/\n",
    "path=\"../training2025/training_data2025_ann2025_hg38/\"\n",
    "dos2unix \"$path\"clinvar_oneToFourStar*\n",
    "tail -n +2 \"$path\"clinvar_pathogenic_AR_locations.txt | awk -F'\\t' -v OFS='\\t' '{print $1,$2,\".\",$3,$4,\".\",\"PASS\",\".\",\"GT\",\"0/1\"}' | cat header.vcf - > \"$path\"clinvar_pathogenic_AR.vcf\n",
    "tail -n +2 \"$path\"clinvar_pathogenic_AD_locations.txt | awk -F'\\t' -v OFS='\\t' '{print $1,$2,\".\",$3,$4,\".\",\"PASS\",\".\",\"GT\",\"0/1\"}' | cat header.vcf - > \"$path\"clinvar_pathogenic_AD.vcf\n",
    "tail -n +2 \"$path\"clinvar_benign_locations.txt | awk -F'\\t' -v OFS='\\t' '{print $1,$2,\".\",$3,$4,\".\",\"PASS\",\".\",\"GT\",\"0/1\"}' | cat header.vcf - > \"$path\"clinvar_benign.vcf\n",
    "                                                           \n",
    "annovar/convert2annovar.pl -format vcf4 \"$path\"clinvar_pathogenic_AR.vcf > \"$path\"clinvar_pathogenic_AR.avinput\n",
    "annovar/annotate_variation.pl -dbtype wgEncodeGencodeBasicV47 -buildver hg38 --exonicsplicing \"$path\"clinvar_pathogenic_AR.avinput annovar/humandb/\n",
    "annovar/convert2annovar.pl -format vcf4 \"$path\"clinvar_pathogenic_AD.vcf > \"$path\"clinvar_pathogenic_AD.avinput\n",
    "annovar/annotate_variation.pl -dbtype wgEncodeGencodeBasicV47 -buildver hg38 --exonicsplicing \"$path\"clinvar_pathogenic_AD.avinput annovar/humandb/\n",
    "annovar/convert2annovar.pl -format vcf4 \"$path\"clinvar_benign.vcf > \"$path\"clinvar_benign.avinput\n",
    "annovar/annotate_variation.pl -dbtype wgEncodeGencodeBasicV47 -buildver hg38 --exonicsplicing \"$path\"clinvar_benign.avinput annovar/humandb/\n",
    "\n",
    "annovar/coding_change.pl \"$path\"clinvar_pathogenic_AR.avinput.exonic_variant_function annovar/humandb/hg38_wgEncodeGencodeBasicV47.txt annovar/humandb/hg38_wgEncodeGencodeBasicV47Mrna.fa --includesnp --onlyAltering --alltranscript > \"$path\"clinvar_pathogenic_AR.coding_changes.txt\n",
    "annovar/coding_change.pl \"$path\"clinvar_pathogenic_AD.avinput.exonic_variant_function annovar/humandb/hg38_wgEncodeGencodeBasicV47.txt annovar/humandb/hg38_wgEncodeGencodeBasicV47Mrna.fa --includesnp --onlyAltering --alltranscript > \"$path\"clinvar_pathogenic_AD.coding_changes.txt\n",
    "annovar/coding_change.pl \"$path\"clinvar_benign.avinput.exonic_variant_function annovar/humandb/hg38_wgEncodeGencodeBasicV47.txt annovar/humandb/hg38_wgEncodeGencodeBasicV47Mrna.fa --includesnp --onlyAltering --alltranscript > \"$path\"clinvar_benign.coding_changes.txt\n",
    "\n",
    "cd \"$path\""
   ]
  },
  {
   "cell_type": "code",
   "execution_count": 3,
   "id": "9387ce18-48f5-410b-8f9b-a96f0d1874a3",
   "metadata": {},
   "outputs": [],
   "source": [
    "approvedTranscripts=pd.read_csv(resources + 'gencodeBasicFullLengthTranscriptsConversionTable_v47.txt',sep='\\t',low_memory=False)\n",
    "\n",
    "canonical=pd.read_csv(resources + 'gnomad.v4.1.constraint_simple_canonical.tsv',sep='\\t',low_memory=False)\n",
    "# remove the gnomad canonical transcripts that are not approvedTranscripts\n",
    "canonical=canonical.loc[canonical['transcript'].isin(approvedTranscripts['transcriptIDShort'].values),:].reset_index(drop=True)\n",
    "\n",
    "GTEx=pd.read_csv(resources + 'GTEx.v10.medians.tsv',sep='\\t',low_memory=False)\n",
    "# remove the non-approvedTranscripts from the expression data\n",
    "GTEx=GTEx.loc[GTEx['transcript_id'].isin(approvedTranscripts['transcriptIDShort'].values),:].reset_index(drop=True)\n",
    "# add a overall expression column\n",
    "GTEx['overallAvg']=GTEx.iloc[:,2:55].mean()\n",
    "\n",
    "sequences={}\n",
    "for record in SeqIO.parse(resources + \"gencode.v47.pc_translations.fa\",\"fasta\"):\n",
    "    transcriptID=record.id.split('|')[1][:15]\n",
    "    if len(approvedTranscripts.loc[approvedTranscripts['transcriptIDShort']==transcriptID,:])>0:\n",
    "        sequences[transcriptID]=record.seq\n",
    "\n",
    "def groomAnnovarOutput(base,sequences=sequences,approvedTranscripts=approvedTranscripts,canonical=canonical,GTEx=GTEx):\n",
    "\n",
    "\tsample=pd.read_csv(base + \".avinput.exonic_variant_function\",sep='\\t',low_memory=False,header=None,\n",
    "\t\t\t\t\t\tnames=['line','varType','location','hg38_chr','hg38_pos(1-based)','end','ref','alt','genotype','qual','depth'],\n",
    "                       dtype={'line':str,'varType':str,'location':str,'hg38_chr':str,'hg38_pos(1-based)':np.int32,'end':np.int32,'ref':str,'alt':str,'genotype':str,'qual':str,'depth':str})\n",
    "\t# add new columns with placeholders to be filled in\n",
    "\tsample['WildtypeSeq']=\"\"\n",
    "\tsample['AltSeq']=\"\"\n",
    "\tsample['ChangePos']=-1\n",
    "\tsample['TranscriptID']=\"\"\n",
    "\tsample['TranscriptIDShort']=\"\"\n",
    "\tsample['geneName']=\"\"\n",
    "\tsample['geneID']=\"\"\n",
    "\tsample['geneIDShort']=\"\"\n",
    "\t\n",
    "\n",
    "\tfor i in range(len(sample)):\n",
    "\t\tif i % 1000 == 0:\n",
    "\t\t\tprint(str(i) + ' rows completed')\n",
    "\t\tnumTranscripts=len(sample.loc[i,'location'].split(','))\n",
    "\t\tnumCanonical=0\n",
    "\t\tcanonicals=[]\n",
    "\t\ttranscripts=[]\n",
    "\t\ttranscriptLengths=[]\n",
    "\t\tcanonicalTranscript=\"\"\n",
    "\t\tcorrectedGeneName=\"\"\n",
    "\t\tfor j in range(numTranscripts-1):\n",
    "\t\t\tif sample.loc[i,'location'].split(',')[j].split(':')[1][:15] in canonical['transcript'].values:\n",
    "\t\t\t\tnumCanonical=numCanonical+1\n",
    "\t\t\t\tcanonicals.append(sample.loc[i,'location'].split(',')[j].split(':')[1][:15])\n",
    "\t\t\tif sample.loc[i,'location'].split(',')[j].split(':')[1][:15] in approvedTranscripts['transcriptIDShort'].values:  \n",
    "\t\t\t\ttranscripts.append(sample.loc[i,'location'].split(',')[j].split(':')[1][:15])\n",
    "\t\t\t\ttranscriptLengths.append(len(sequences[sample.loc[i,'location'].split(',')[j].split(':')[1][:15]]))\n",
    "\t\t\t\t\n",
    "\t\tif len(transcripts)>0:\n",
    "\t\t\tif numCanonical==1:\n",
    "\t\t\t\ttranscriptID=canonicals[0]\n",
    "\t\t\t\tsample.loc[i,'TranscriptIDShort']=transcriptID\n",
    "\t\t\t\tsample.loc[i,'TranscriptID']=approvedTranscripts.loc[approvedTranscripts['transcriptIDShort']==transcriptID,'transcriptID'].values[0]\n",
    "\t\t\t\tsample.loc[i,'geneName']=approvedTranscripts.loc[approvedTranscripts['transcriptIDShort']==transcriptID,'geneName'].values[0]\n",
    "\t\t\t\tsample.loc[i,'geneID']=approvedTranscripts.loc[approvedTranscripts['transcriptIDShort']==transcriptID,'geneID'].values[0]\n",
    "\t\t\t\tsample.loc[i,'geneIDShort']=approvedTranscripts.loc[approvedTranscripts['transcriptIDShort']==transcriptID,'geneIDShort'].values[0]\n",
    "\t\t\telif numCanonical==0:\n",
    "\t\t\t\tif len(transcripts)==1:\n",
    "\t\t\t\t\ttranscriptID=transcripts[0]\n",
    "\t\t\t\t\tsample.loc[i,'TranscriptIDShort']=transcriptID\n",
    "\t\t\t\t\tsample.loc[i,'TranscriptID']=approvedTranscripts.loc[approvedTranscripts['transcriptIDShort']==transcriptID,'transcriptID'].values[0]\n",
    "\t\t\t\t\tsample.loc[i,'geneName']=approvedTranscripts.loc[approvedTranscripts['transcriptIDShort']==transcriptID,'geneName'].values[0]\n",
    "\t\t\t\t\tsample.loc[i,'geneID']=approvedTranscripts.loc[approvedTranscripts['transcriptIDShort']==transcriptID,'geneID'].values[0]\n",
    "\t\t\t\t\tsample.loc[i,'geneIDShort']=approvedTranscripts.loc[approvedTranscripts['transcriptIDShort']==transcriptID,'geneIDShort'].values[0]\n",
    "\t\t\t\telse:\n",
    "\t\t\t\t\tif len(GTEx.loc[GTEx['transcript_id'].isin(transcripts),:])>0:\n",
    "\t\t\t\t\t\t# pick the transcript with the highest expression\n",
    "\t\t\t\t\t\ttranscriptID=GTEx.loc[GTEx['transcript_id'].isin(transcripts),:].sort_values(by=['overallAvg'],ascending=False).reset_index(drop=True).iloc[0,0]\n",
    "\t\t\t\t\t\tsample.loc[i,'TranscriptIDShort']=transcriptID\n",
    "\t\t\t\t\t\tsample.loc[i,'TranscriptID']=approvedTranscripts.loc[approvedTranscripts['transcriptIDShort']==transcriptID,'transcriptID'].values[0]\n",
    "\t\t\t\t\t\tsample.loc[i,'geneName']=approvedTranscripts.loc[approvedTranscripts['transcriptIDShort']==transcriptID,'geneName'].values[0]\n",
    "\t\t\t\t\t\tsample.loc[i,'geneID']=approvedTranscripts.loc[approvedTranscripts['transcriptIDShort']==transcriptID,'geneID'].values[0]\n",
    "\t\t\t\t\t\tsample.loc[i,'geneIDShort']=approvedTranscripts.loc[approvedTranscripts['transcriptIDShort']==transcriptID,'geneIDShort'].values[0]\n",
    "\t\t\t\t\telse:\n",
    "\t\t\t\t\t\t# if none of the transcripts have measured expression and none of them are canonical, then pick the one with the longest amino acid sequence\n",
    "\t\t\t\t\t\t# if multiple tie for longest, this picks the one we saw first\n",
    "\t\t\t\t\t\tj=transcriptLengths.index(max(transcriptLengths))\n",
    "\t\t\t\t\t\ttranscriptID=transcripts[j]\n",
    "\t\t\t\t\t\tsample.loc[i,'TranscriptIDShort']=transcriptID\n",
    "\t\t\t\t\t\tsample.loc[i,'TranscriptID']=approvedTranscripts.loc[approvedTranscripts['transcriptIDShort']==transcriptID,'transcriptID'].values[0]\n",
    "\t\t\t\t\t\tsample.loc[i,'geneName']=approvedTranscripts.loc[approvedTranscripts['transcriptIDShort']==transcriptID,'geneName'].values[0]\n",
    "\t\t\t\t\t\tsample.loc[i,'geneID']=approvedTranscripts.loc[approvedTranscripts['transcriptIDShort']==transcriptID,'geneID'].values[0]\n",
    "\t\t\t\t\t\tsample.loc[i,'geneIDShort']=approvedTranscripts.loc[approvedTranscripts['transcriptIDShort']==transcriptID,'geneIDShort'].values[0]\n",
    "\t\t\telif numCanonical>1:\n",
    "\t\t\t\tif len(GTEx.loc[GTEx['transcript_id'].isin(canonicals),:])>0:\n",
    "\t\t\t\t\t# pick the canonical transcript with the highest expression\n",
    "\t\t\t\t\ttranscriptID=GTEx.loc[GTEx['transcript_id'].isin(canonicals),:].sort_values(by=['overallAvg'],ascending=False).reset_index(drop=True).iloc[0,0]\n",
    "\t\t\t\t\tsample.loc[i,'TranscriptIDShort']=transcriptID\n",
    "\t\t\t\t\tsample.loc[i,'TranscriptID']=approvedTranscripts.loc[approvedTranscripts['transcriptIDShort']==transcriptID,'transcriptID'].values[0]\n",
    "\t\t\t\t\tsample.loc[i,'geneName']=approvedTranscripts.loc[approvedTranscripts['transcriptIDShort']==transcriptID,'geneName'].values[0]\n",
    "\t\t\t\t\tsample.loc[i,'geneID']=approvedTranscripts.loc[approvedTranscripts['transcriptIDShort']==transcriptID,'geneID'].values[0]\n",
    "\t\t\t\t\tsample.loc[i,'geneIDShort']=approvedTranscripts.loc[approvedTranscripts['transcriptIDShort']==transcriptID,'geneIDShort'].values[0]\n",
    "\t\t\t\telse:\n",
    "\t\t\t\t\t# if none of the canonical transcripts have measured expression, then pick the one with the longest amino acid sequence\n",
    "\t\t\t\t\t# if multiple tie for longest, this picks the one we saw first\n",
    "\t\t\t\t\tj=transcriptLengths.index(max(transcriptLengths))\n",
    "\t\t\t\t\ttranscriptID=transcripts[j]\n",
    "\t\t\t\t\tsample.loc[i,'TranscriptIDShort']=transcriptID\n",
    "\t\t\t\t\tsample.loc[i,'TranscriptID']=approvedTranscripts.loc[approvedTranscripts['transcriptIDShort']==transcriptID,'transcriptID'].values[0]\n",
    "\t\t\t\t\tsample.loc[i,'geneName']=approvedTranscripts.loc[approvedTranscripts['transcriptIDShort']==transcriptID,'geneName'].values[0]\n",
    "\t\t\t\t\tsample.loc[i,'geneID']=approvedTranscripts.loc[approvedTranscripts['transcriptIDShort']==transcriptID,'geneID'].values[0]\n",
    "\t\t\t\t\tsample.loc[i,'geneIDShort']=approvedTranscripts.loc[approvedTranscripts['transcriptIDShort']==transcriptID,'geneIDShort'].values[0]\n",
    "\n",
    "\t# drop the entries without transcript ID matches\n",
    "\tsample=sample.loc[(~(sample['TranscriptIDShort']==\"\")),:].reset_index(drop=True)\n",
    "\n",
    "\tfor record in SeqIO.parse(base + \".coding_changes.txt\", \"fasta\"):\n",
    "\t\tlineNum=record.id\n",
    "\t\t# only use the transcript that we selected above \n",
    "\t\tif ((len(sample.loc[sample['line']==lineNum,:])>0) and (sample.loc[sample['line']==lineNum,'TranscriptIDShort'].values[0]==record.description.split(' ')[1][:15])):\n",
    "\t\t\tif 'WILDTYPE' in record.description:\n",
    "\t\t\t\tif record.seq.__str__()[:-1] == sequences[record.description.split(' ')[1][:15]]:\n",
    "\t\t\t\t\tsample.loc[sample['line']==lineNum,'WildtypeSeq']=record.seq.__str__()\n",
    "\t\t\telse:\n",
    "\t\t\t\tsample.loc[sample['line']==lineNum,'AltSeq']=record.seq.__str__()\n",
    "\t\t\t\tif 'startloss' in record.description:\n",
    "\t\t\t\t\tsample.loc[sample['line']==lineNum,'ChangePos']=1\n",
    "\t\t\t\telif 'silent' in record.description:\n",
    "\t\t\t\t\tsample.loc[sample['line']==lineNum,'ChangePos']=-1\n",
    "\t\t\t\telse:\n",
    "\t\t\t\t\tsample.loc[sample['line']==lineNum,'ChangePos']=record.description.split(' ')[7].split('-')[0]\n",
    "\tsample2=sample.loc[~((sample['WildtypeSeq']==\"\") | (sample['AltSeq']==\"\") | (sample['ChangePos']==-1)),:]\n",
    "\tsample2.to_csv(base + '.groomed.txt',sep='\\t',index=False)\n",
    "\treturn\n"
   ]
  },
  {
   "cell_type": "code",
   "execution_count": null,
   "id": "12755163-6357-40ad-bfe0-b376f87d9882",
   "metadata": {
    "scrolled": true
   },
   "outputs": [
    {
     "name": "stdout",
     "output_type": "stream",
     "text": [
      "0 rows completed\n",
      "1000 rows completed\n",
      "2000 rows completed\n"
     ]
    }
   ],
   "source": [
    "groomAnnovarOutput('clinvar_pathogenic_AR')\n",
    "groomAnnovarOutput('clinvar_pathogenic_AD')\n",
    "groomAnnovarOutput('clinvar_benign')"
   ]
  },
  {
   "cell_type": "code",
   "execution_count": null,
   "id": "face31c3-0a84-4f2d-82ed-e7f7f8b358bf",
   "metadata": {},
   "outputs": [],
   "source": [
    "constraint=pd.read_csv(resources + 'gnomad.v4.1.constraint_simple.tsv',sep='\\t',low_memory=False)\n",
    "\n",
    "gnomadAF=pd.read_csv(resources + 'gnomad410_GRCh38_exomes_AFs.txt',sep='\\t',low_memory=False,dtype={'hg38_chr':str,'hg38_pos(1-based)':np.int32,'ref':str,'alt':str,'AF':np.float32,'nhomalt':np.int32,'controls_AF':np.float32,'controls_nhomalt':np.int32})\n",
    "gnomadAF=gnomadAF.loc[(~(gnomadAF['hg38_chr'].str.contains('_'))),:].reset_index(drop=True)\n",
    "gnomadAF.loc[gnomadAF['hg38_chr']=='X','hg38_chr']=23\n",
    "gnomadAF.loc[gnomadAF['hg38_chr']=='Y','hg38_chr']=24\n",
    "gnomadAF.loc[gnomadAF['hg38_chr']=='MT','hg38_chr']=25\n",
    "gnomadAF['hg38_chr']=gnomadAF['hg38_chr'].astype(int)\n",
    "\n",
    "CCR=pd.read_csv(resources + 'ccrs_GRCh38.enumerated.txt',sep='\\t',low_memory=False,dtype={'chrom':str,'pos':np.int32,'ccr_pct':np.float32})\n",
    "CCR=CCR.loc[(~(CCR['chrom'].str.contains('_'))),:]\n",
    "CCR.loc[CCR['chrom']=='X','chrom']=23\n",
    "CCR['chrom']=CCR.loc[:,'chrom'].astype(int)\n",
    "CCR=CCR.sort_values(by=['chrom','pos','ccr_pct'],ascending=[True,True,False]).drop_duplicates(subset=['chrom','pos'],keep='first').reset_index(drop=True)\n",
    "\n",
    "pext=pd.read_csv(resources + 'gnomAD_pext_values.gtex.v10.txt',sep='\\t',low_memory=False,dtype={'chr':str,'pos':np.int32,'pext':np.float32})\n",
    "pext=pext.loc[(~(pext['chr'].str.contains('_'))),:]\n",
    "pext.loc[pext['chr']=='X','chr']=23\n",
    "pext.loc[pext['chr']=='Y','chr']=24\n",
    "pext.loc[pext['chr']=='M','chr']=25\n",
    "pext['chr']=pext.loc[:,'chr'].astype(int)\n",
    "pext=pext.sort_values(by=['chr','pos','pext'],ascending=[True,True,False]).drop_duplicates(subset=['chr','pos'],keep='first').reset_index(drop=True)\n",
    "\n",
    "gerp=pd.read_csv(resources + 'gerpOnExons_GRCh38.txt',sep='\\t',low_memory=False,dtype={'chr':str,'pos':np.int32,'gerp':np.float32})\n",
    "gerp=gerp.loc[(~(gerp['chr'].str.contains('_'))),:]\n",
    "gerp.loc[gerp['chr']=='X','chr']=23\n",
    "gerp.loc[gerp['chr']=='Y','chr']=24\n",
    "gerp.loc[gerp['chr']=='M','chr']=25\n",
    "gerp['chr']=gerp['chr'].astype(int)\n",
    "gerp=gerp.sort_values(by=['chr','pos','gerp'],ascending=[True,True,False]).drop_duplicates(subset=['chr','pos'],keep='first').reset_index(drop=True)\n",
    "\n",
    "GDI=pd.read_csv(resources + 'GDI.groomed.txt',sep='\\t',low_memory=False)\n",
    "RVIS=pd.read_csv(resources + 'RVIS.groomed.txt',sep='\\t',low_memory=False)"
   ]
  },
  {
   "cell_type": "code",
   "execution_count": null,
   "id": "79b8451f-f782-4330-8b66-6a26bc7df596",
   "metadata": {},
   "outputs": [],
   "source": [
    "def annotateVariantsAndFilter(base,constraint=constraint,gnomadAF=gnomadAF,CCR=CCR,pext=pext,gerp=gerp,GDI=GDI,RVIS=RVIS,variantType='normal'):\n",
    "    sample=pd.read_csv(base + '.groomed.txt',sep='\\t',low_memory=False)\n",
    "    sample.loc[sample['hg38_chr']=='X','hg38_chr']=23\n",
    "    sample.loc[sample['hg38_chr']=='Y','hg38_chr']=24\n",
    "    sample.loc[sample['hg38_chr']=='MT','hg38_chr']=25\n",
    "    sample['hg38_chr']=sample['hg38_chr'].astype(int)\n",
    "\n",
    "    # merge on the allele frequency data\n",
    "    sample=sample.merge(gnomadAF,how='left',on=['hg38_chr','hg38_pos(1-based)','ref','alt'])\n",
    "\n",
    "    # merge on the constraint data (try transcript ID merge first)\n",
    "    sampleTranscript=sample.merge(constraint,how='inner',left_on=['TranscriptIDShort'],right_on=['transcript'])\n",
    "    notMatched=sample.loc[~(sample['TranscriptIDShort'].isin(sampleTranscript['TranscriptIDShort'])),:]\n",
    "    sampleGeneID=notMatched.merge(constraint,how='inner',left_on=['geneIDShort'],right_on=['gene_id'])\n",
    "    notMatched2=notMatched.loc[~(notMatched['geneIDShort'].isin(sampleGeneID['geneIDShort'])),:]\n",
    "    sampleGeneName=notMatched2.merge(constraint,how='left',left_on=['geneName'],right_on=['gene'])\n",
    "    # stack them all back together\n",
    "    sample2=pd.concat([sampleTranscript,sampleGeneID,sampleGeneName],axis=0,ignore_index=True)\n",
    "    sample2.loc[sample2['hg38_chr']=='X','hg38_chr']=23\n",
    "    sample2.loc[sample2['hg38_chr']=='Y','hg38_chr']=24\n",
    "    sample2.loc[sample2['hg38_chr']=='MT','hg38_chr']=25\n",
    "    sample2['hg38_chr']=sample2['hg38_chr'].astype(int)\n",
    "\n",
    "    # merge on the CCR data\n",
    "    sample2['CCR']=np.nan\n",
    "    sampleSNVs=sample2.loc[sample2['varType'].isin(['nonsynonymous SNV','synonymous SNV','stopgain','stoploss']),['hg38_chr','hg38_pos(1-based)']]\n",
    "    sampleIndels=sample2.loc[sample2['varType'].isin(['frameshift insertion','frameshift deletion','frameshift substitution',\n",
    "                                                    'nonframeshift insertion','nonframeshift deletion','nonframeshift substitution']),['hg38_chr','hg38_pos(1-based)','ref']]\n",
    "    sampleIndels['length']=sampleIndels['ref'].str.len()\n",
    "    sampleIndels['CCR']=np.nan\n",
    "    sampleSNVs2=sampleSNVs.merge(CCR,how='left',left_on=['hg38_chr','hg38_pos(1-based)'],right_on=['chrom','pos']).set_index(sampleSNVs.index)\n",
    "    for i in range(len(sampleIndels)):\n",
    "        if i%100==0:\n",
    "            print(str(i) + ' rows complete of ' + str(len(sampleIndels)))\n",
    "        startPos=sampleIndels.iloc[i,1]+1\n",
    "        endPos=startPos+sampleIndels.iloc[i,3]\n",
    "        sampleIndels.iloc[i,4]=CCR.loc[((CCR['chrom']==sampleIndels.iloc[i,0]) & (CCR['pos'].isin(range(startPos,endPos)))),'ccr_pct'].max()\n",
    "    sample2.loc[sampleSNVs2.index,'CCR']=sampleSNVs2.loc[:,'ccr_pct'].values\n",
    "    sample2.loc[sampleIndels.index,'CCR']=sampleIndels.loc[:,'CCR'].values\n",
    "\n",
    "    # merge on the pext data\n",
    "    sample2['pext']=np.nan\n",
    "    sampleIndels['pext']=np.nan\n",
    "    sampleSNVs2=sampleSNVs.merge(pext,how='left',left_on=['hg38_chr','hg38_pos(1-based)'],right_on=['chr','pos']).set_index(sampleSNVs.index)\n",
    "    for i in range(len(sampleIndels)):\n",
    "        if i%100==0:\n",
    "            print(str(i) + ' rows complete of ' + str(len(sampleIndels)))\n",
    "        startPos=sampleIndels.iloc[i,1]+1\n",
    "        endPos=startPos+sampleIndels.iloc[i,3]\n",
    "        sampleIndels.iloc[i,5]=pext.loc[((pext['chr']==sampleIndels.iloc[i,0]) & (pext['pos'].isin(range(startPos,endPos)))),'pext'].max()\n",
    "    sample2.loc[sampleSNVs2.index,'pext']=sampleSNVs2.loc[:,'pext'].values\n",
    "    sample2.loc[sampleIndels.index,'pext']=sampleIndels.loc[:,'pext'].values\n",
    "\n",
    "    # merge on the GERP data\n",
    "    sample2['gerp']=np.nan\n",
    "    sampleIndels['gerp']=np.nan\n",
    "    sampleSNVs2=sampleSNVs.merge(gerp,how='left',left_on=['hg38_chr','hg38_pos(1-based)'],right_on=['chr','pos']).set_index(sampleSNVs.index)\n",
    "    for i in range(len(sampleIndels)):\n",
    "        if i%100==0:\n",
    "            print(str(i) + ' rows complete of ' + str(len(sampleIndels)))\n",
    "        startPos=sampleIndels.iloc[i,1]+1\n",
    "        endPos=startPos+sampleIndels.iloc[i,3]\n",
    "        sampleIndels.iloc[i,6]=gerp.loc[((gerp['chr']==sampleIndels.iloc[i,0]) & (gerp['pos'].isin(range(startPos,endPos)))),'gerp'].max()\n",
    "    sample2.loc[sampleSNVs2.index,'gerp']=sampleSNVs2.loc[:,'gerp'].values\n",
    "    sample2.loc[sampleIndels.index,'gerp']=sampleIndels.loc[:,'gerp'].values\n",
    "\n",
    "    sample2=sample2.drop_duplicates(subset=['hg38_chr','hg38_pos(1-based)','ref','alt'],keep='first')\n",
    "    sample2=sample2.drop(columns=['line','location','end','qual','depth','gene','transcript', 'canonical','gene_id'])\n",
    "    sample2=sample2.sort_values(by=['hg38_chr','hg38_pos(1-based)','ref','alt']).reset_index(drop=True)\n",
    "\n",
    "    # merge on GDI data\n",
    "    sample2=sample2.merge(GDI,how='left',on='geneName')\n",
    "    # merge on RVIS data\n",
    "    sample2=sample2.merge(RVIS,how='left',on='geneName')\n",
    "    \n",
    "    # filtration steps that are only performed on the training and testing sets\n",
    "    # remove variants within 2bp of exon-intron boundaries\n",
    "    sample2=sample2.loc[~(sample2['varType'].str.contains('splicing')),:].reset_index(drop=True)\n",
    "    \n",
    "    # correct the sequence of proteins whose alt sequence doesn't start with an M to being non-translated\n",
    "    sample2.loc[((sample2['ChangePos']==1) & (sample2['ref'].str.len()==1) & (sample2['alt'].str.len()==1) & (sample2['ref']!='-') * (sample2['alt']!='-')),'AltSeq']=\"*\"\n",
    "    \n",
    "    if variantType=='dominant':\n",
    "        # get rid of any variants seen in gnomAD\n",
    "        sample2['controls_AF']=sample2['controls_AF'].replace('.',0).fillna(0)\n",
    "        sample2=sample2.loc[sample2['controls_AF']==0,:].reset_index(drop=True)\n",
    "    elif variantType=='recessive':\n",
    "        # get rid of any variants seen in the homozygous state in gnomAD\n",
    "        sample2['controls_nhomalt']=sample2['controls_nhomalt'].replace('.',0).fillna(0)\n",
    "        sample2=sample2.loc[sample2['controls_nhomalt']==0,:].reset_index(drop=True)\n",
    "\n",
    "    sample2=sample2.sort_values(by=['hg38_chr','hg38_pos(1-based)','ref','alt']).reset_index(drop=True)\n",
    "    sample2=sample2.drop_duplicates(subset=['hg38_chr','hg38_pos(1-based)','ref','alt'],keep='first').reset_index(drop=True)\n",
    "    sample2.to_csv(base + '.annotated.txt',sep='\\t',index=False)\n",
    "    return"
   ]
  },
  {
   "cell_type": "code",
   "execution_count": null,
   "id": "9b4bc048-9717-4cae-8a5f-b56e10bac86d",
   "metadata": {
    "scrolled": true
   },
   "outputs": [],
   "source": [
    "annotateVariantsAndFilter('clinvar_pathogenic_AR',variantType='recessive')\n",
    "annotateVariantsAndFilter('clinvar_pathogenic_AD',variantType='dominant')\n",
    "annotateVariantsAndFilter('clinvar_benign')"
   ]
  },
  {
   "cell_type": "code",
   "execution_count": 6,
   "id": "687b9d64-3f51-4f30-9d5d-b2896ca29fb8",
   "metadata": {},
   "outputs": [],
   "source": [
    "# remove duplicates and create validation set and training sets\n",
    "AR=pd.read_csv('./clinvar_pathogenic_AR.annotated.txt',sep='\\t',low_memory=False)\n",
    "AD=pd.read_csv('./clinvar_pathogenic_AD.annotated.txt',sep='\\t',low_memory=False)\n",
    "benign=pd.read_csv('./clinvar_benign.annotated.txt',sep='\\t',low_memory=False)\n",
    "AR['classLabel']=2\n",
    "AD['classLabel']=1\n",
    "benign['classLabel']=0\n",
    "allData=pd.concat([AR,AD,benign],axis=0,ignore_index=True)\n",
    "allData=allData.sort_values(by=['hg38_chr','hg38_pos(1-based)','ref','alt'])\n",
    "allData=allData.drop_duplicates(subset=['hg38_chr','hg38_pos(1-based)','ref','alt'],keep=False).reset_index(drop=True)\n",
    "allData=allData.loc[:,['varType', 'hg38_chr', 'hg38_pos(1-based)', 'ref', 'alt', 'WildtypeSeq', 'AltSeq', 'ChangePos', 'TranscriptID', 'TranscriptIDShort',\n",
    "       'geneName', 'geneID', 'geneIDShort', 'pLI', 'pNull', 'pRec', 'mis_z', 'lof_z', 'controls_AF', 'controls_nhomalt', 'CCR', 'pext', 'gerp', 'GDI', 'RVIS_ExAC_0.05', 'classLabel']]\n"
   ]
  },
  {
   "cell_type": "code",
   "execution_count": 3,
   "id": "e58f846e-854d-41df-8a02-c1ce7f12bf0c",
   "metadata": {},
   "outputs": [],
   "source": [
    "allData.to_csv('./allData2025.txt',sep='\\t',index=False)"
   ]
  },
  {
   "cell_type": "code",
   "execution_count": 1,
   "id": "c2a82b5d-26ab-40ca-8cba-c0442a7f7410",
   "metadata": {},
   "outputs": [
    {
     "name": "stdout",
     "output_type": "stream",
     "text": [
      "298074 allData2025.txt\n"
     ]
    }
   ],
   "source": [
    "!wc -l allData2025.txt"
   ]
  },
  {
   "cell_type": "markdown",
   "id": "027d32d9-00e5-4904-95eb-a7b74ed9d4de",
   "metadata": {},
   "source": [
    "## Validation set"
   ]
  },
  {
   "cell_type": "code",
   "execution_count": 8,
   "id": "82a40dc0-e293-4bc8-823d-6e2313388f4e",
   "metadata": {},
   "outputs": [],
   "source": [
    "validationSet=allData.sample(n=2000,replace=False,random_state=1).sort_values(by=['hg38_chr','hg38_pos(1-based)','ref','alt'],ascending=True)\n",
    "trainingSet=allData.drop(validationSet.index).sort_values(by=['hg38_chr','hg38_pos(1-based)','ref','alt'],ascending=True)"
   ]
  },
  {
   "cell_type": "code",
   "execution_count": 9,
   "id": "32112149-73e6-409d-aef2-1bc85f5ae477",
   "metadata": {},
   "outputs": [],
   "source": [
    "trainingSet.to_csv('./trainingSet_data2025_ann2025_hg38.txt',sep='\\t',index=False)\n",
    "validationSet.to_csv('./validationSet_data2025_ann2025_hg38.txt',sep='\\t',index=False)"
   ]
  },
  {
   "cell_type": "code",
   "execution_count": 10,
   "id": "efb61198-2d04-4fcf-8835-845b39360905",
   "metadata": {},
   "outputs": [
    {
     "data": {
      "text/plain": [
       "classLabel\n",
       "0    206676\n",
       "2     54244\n",
       "1     35153\n",
       "Name: count, dtype: int64"
      ]
     },
     "execution_count": 10,
     "metadata": {},
     "output_type": "execute_result"
    }
   ],
   "source": [
    "trainingSet.loc[:,'classLabel'].value_counts()"
   ]
  },
  {
   "cell_type": "code",
   "execution_count": 11,
   "id": "61e547f3-9371-486e-8fe4-7bd046ca4413",
   "metadata": {},
   "outputs": [
    {
     "data": {
      "text/plain": [
       "classLabel\n",
       "0    1433\n",
       "2     354\n",
       "1     213\n",
       "Name: count, dtype: int64"
      ]
     },
     "execution_count": 11,
     "metadata": {},
     "output_type": "execute_result"
    }
   ],
   "source": [
    "validationSet.loc[:,'classLabel'].value_counts()"
   ]
  },
  {
   "cell_type": "code",
   "execution_count": 12,
   "id": "f7e1d569-30c2-46cb-81a8-34300fbeddfb",
   "metadata": {},
   "outputs": [
    {
     "name": "stdout",
     "output_type": "stream",
     "text": [
      "296074 trainingSet_data2025_ann2025_hg38.txt\n"
     ]
    }
   ],
   "source": [
    "!wc -l trainingSet_data2025_ann2025_hg38.txt"
   ]
  },
  {
   "cell_type": "code",
   "execution_count": 13,
   "id": "7c6fc22d-704e-4f7e-a8c4-3596c9bcc217",
   "metadata": {},
   "outputs": [
    {
     "name": "stdout",
     "output_type": "stream",
     "text": [
      "2001 validationSet_data2025_ann2025_hg38.txt\n"
     ]
    }
   ],
   "source": [
    "!wc -l validationSet_data2025_ann2025_hg38.txt"
   ]
  },
  {
   "cell_type": "code",
   "execution_count": null,
   "id": "92fcd67c-c933-49c0-8aa2-52ef1003e14b",
   "metadata": {},
   "outputs": [],
   "source": []
  }
 ],
 "metadata": {
  "kernelspec": {
   "display_name": "Python 3 (ipykernel)",
   "language": "python",
   "name": "python3"
  },
  "language_info": {
   "codemirror_mode": {
    "name": "ipython",
    "version": 3
   },
   "file_extension": ".py",
   "mimetype": "text/x-python",
   "name": "python",
   "nbconvert_exporter": "python",
   "pygments_lexer": "ipython3",
   "version": "3.12.9"
  }
 },
 "nbformat": 4,
 "nbformat_minor": 5
}
